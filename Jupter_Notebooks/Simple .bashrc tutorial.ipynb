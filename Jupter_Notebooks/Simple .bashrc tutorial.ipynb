{
 "cells": [
  {
   "cell_type": "markdown",
   "id": "693dad22",
   "metadata": {},
   "source": [
    "# .bashrc Guide: Master Bash Shell Customization for Enhanced Productivity\n",
    "# 优化 .bashrc 指南：掌握 Bash Shell "
   ]
  },
  {
   "cell_type": "markdown",
   "id": "f51fd1d7",
   "metadata": {},
   "source": [
    "## .bashrc 教程"
   ]
  },
  {
   "cell_type": "markdown",
   "id": "c45d5270",
   "metadata": {},
   "source": [
    "The `.bashrc` file is a script that runs every time a new terminal session starts in a Bash shell (which is the default shell in OSCER). It's a configuration file used to set up your terminal environment, customize it, and define personal preferences like aliases, functions, environment variables, and more."
   ]
  },
  {
   "cell_type": "markdown",
   "id": "8df89248",
   "metadata": {},
   "source": [
    ".bashrc 文件是一个脚本，每次在 Bash shell（OSCER 中的默认 shell）中启动新的终端会话时都会运行。它是一个配置文件，用于设置终端环境、自定义终端环境以及定义个人偏好设置，例如别名、函数、环境变量等。"
   ]
  },
  {
   "cell_type": "markdown",
   "id": "d16c0520",
   "metadata": {},
   "source": [
    "## 1. What is the .bashrc file? / 什么是 .bashrc 文件 "
   ]
  },
  {
   "cell_type": "markdown",
   "id": "62d4bc6a",
   "metadata": {},
   "source": [
    "#### Quick Way to jump to home directory: It is typically located in your home directory: \n",
    "#### 快速跳转到主目录的方法：到主目录"
   ]
  },
  {
   "cell_type": "markdown",
   "id": "3ca7c38d",
   "metadata": {},
   "source": [
    "`cd`"
   ]
  },
  {
   "cell_type": "markdown",
   "id": "391a8d6e",
   "metadata": {},
   "source": [
    "#### Location: It is located in your home directory: ~/.bashrc.\n",
    "#### 位置：它位于您的主目录下：~/.bashrc.\n",
    "\n",
    "#### Purpose: It's used to configure your shell environment every time a new terminal window or session is opened.\n",
    "#### 目的：它用于在每次打开新的终端窗口或会话时配置您的 shell 环境."
   ]
  },
  {
   "cell_type": "markdown",
   "id": "59bf1a30",
   "metadata": {},
   "source": [
    "## 2. How to Edit the .bashrc File / 2. 如何编辑 .bashrc 文件\n"
   ]
  },
  {
   "cell_type": "markdown",
   "id": "8b020099",
   "metadata": {},
   "source": [
    "#### To edit .bashrc, open it with any text editor. For example, use vi:  \n",
    "#### 编辑 .bashrc，您可以使用任何文本编辑器打开它。例如，使用 vi:\n",
    "\n",
    "`vi ~/.bashrc`\n",
    "\n",
    "#### Once the file is open, you can start making your changes.\n",
    "#### 打开文件，您就可以开始进行更改."
   ]
  },
  {
   "cell_type": "markdown",
   "id": "51e3007d",
   "metadata": {},
   "source": [
    "## 3. Basic Usage of .bashrc / .bashrc 基本用法\n",
    "\n",
    "#### Here are some common lines you might find or add to the .bashrc file:\n",
    "#### 以下是一些您可能在 .bashrc 文件中找到的常见添加:"
   ]
  },
  {
   "cell_type": "markdown",
   "id": "b5c1a315",
   "metadata": {},
   "source": [
    "### a) **Aliases / 别名** \n",
    "\n",
    "#### Aliases allow you to create shortcuts for long or frequently used commands.\n",
    "#### 别名允许你为冗长或常用命令创建快捷方式.\n",
    "\n",
    "#### Example:\n",
    "#### 示例:"
   ]
  },
  {
   "cell_type": "markdown",
   "id": "b3a90adb",
   "metadata": {},
   "source": [
    "\n",
    "`# jump to the yolo\n",
    " disk easily`\n",
    "\n",
    "\n",
    "`alias ogs_ourdisk=\"cd /ourdisk/hpc/yolo/hongyux/dont_archive/\"`\n"
   ]
  },
  {
   "cell_type": "markdown",
   "id": "4a715459",
   "metadata": {},
   "source": [
    "### b) **Environment Variables / 环境变量**\n",
    "\n",
    "您可以设置环境变量，这些变量定义了在 shell 中运行的程序和脚本可以访问的值。\n",
    "\n",
    "You can set environment variables, which define values accessible to programs and scripts running in the shell.\n",
    "\n",
    "Example:\n",
    "示例\n",
    "\n",
    "```bash\n",
    "# Set up Transfer Learning Data Folder\n",
    "export SEISBENCH_CACHE_ROOT=/ourdisk/hpc/ogs/hongyux/dont_archive/\n",
    "\n",
    "```\n",
    "\n",
    "\n",
    "### c) **Custom Functions / 自定义函数**\n",
    "\n",
    "You can define your own shell functions for tasks you\n",
    "\n",
    "您可以定义自己的 shell 函数来执行您所需的任务 \n",
    "\n",
    "Example:\n",
    "示例\n",
    "\n",
    "```bash\n",
    "# Function to count files in a directory\n",
    "# 计算目录中文件数量的函数\n",
    "\n",
    "count_files() {\n",
    "    echo \"Number of files: $(ls | wc -l)\"\n",
    "}\n",
    "```\n",
    "\n",
    "### d) **Prompt Customization / 提示定制**\n",
    "\n",
    "You can modify your shell prompt (the `PS1` variable), which is the line you see before you type commands in the terminal.\n",
    "您可以修改 shell 提示符（`PS1` 变量），这是您在终端中键入命令之前看到的行。\n",
    "\n",
    "Example:\n",
    "示例\n",
    "\n",
    "```bash\n",
    "# Set a custom prompt to display the current directory and time\n",
    "# 设置自定义提示以显示当前目录和时间\n",
    "PS1='[\\u@\\h \\w \\t]$ '\n",
    "```\n",
    "\n",
    "### e) **Startup Commands / 启动命令**\n",
    "\n",
    "You can add commands that should run every time a terminal session starts. For example:\n",
    "你可以添加每次终端会话启动时运行的命令。例如：\n",
    "\n",
    "```bash\n",
    "# Set up Transfer Learning Environment\n",
    "conda activate TL\n",
    "```\n",
    "\n",
    "### 4. **Applying Changes / 应用更改**\n",
    "\n",
    "Once you’ve edited the `.bashrc` file and saved it, you need to apply the changes. You can either:\n",
    "\n",
    "编辑完 .bashrc文件并保存后，您需要应用更改。您可以：\n",
    "\n",
    "- Close and reopen your terminal\n",
    "\n",
    "- 关闭并重新打开您的终端。 \n",
    "\n",
    "- Run the following command to source the file without restarting the terminal:\n",
    "\n",
    "- 运行以下命令来获取文件，无需重新启动终端： \n",
    "    \n",
    "    ```bash\n",
    "    source ~/.bashrc\n",
    "    ```\n",
    "    \n",
    "\n",
    "### 5. **Important Tips / 重要提示**\n",
    "\n",
    "- **Backups**: A**lways keep a backup** of your `.bashrc` before making significant changes. If something goes wrong, you can restore it. Typically, I only copy and paster and create new .bashrc file. I **do not** delete any of my .bashrc files. \n",
    "\n",
    "- **备份**： 始终保留 您的 .bashrc在进行重大更改之前，请先检查一下。如果出现问题，您可以恢复它。通常情况下，我只复制粘贴并创建新的 .bashrc 文件。我 不会 删除任何 .bashrc 文件。 \n",
    "\n",
    "- **Comments**: Use `#` to add comments in your `.bashrc`. This is helpful to explain what each part of the file does. \n",
    "- **评论** 使用 #在您的 .bashrc。这有助于解释文件的每个部分的作用。 \n",
    "\n",
    "Example:\n",
    "示例:\n",
    "    \n",
    "    ```bash\n",
    "    # This sets up a custom prompt with time and directory\n",
    "    PS1='[\\u@\\h \\w \\t]$ '\n",
    "    ```\n",
    "    \n",
    "- **Use `alias` carefully**: Make sure your aliases don’t conflict with existing commands or system commands you use frequently. \n",
    "- **使用 alias小心** ：确保您的别名不会与您经常使用的现有命令或系统命令冲突。 \n",
    "\n",
    "---\n",
    "\n",
    "### My Example `.bashrc` File / 我的例子 .bashrc 文件 \n",
    "\n",
    "Here’s a simple example of a `.bashrc` file that sets up a few customizations: \n",
    "\n",
    "这是一个简单的例子 .bashrc设置一些自定义的文件：\n",
    "\n",
    "```bash\n",
    "# For TauP\n",
    "export PATH=$PATH:~/TauP-1.1.7/bin\n",
    "\n",
    "alias jupyter_8989=\"jupyter notebook --no-browser --port=8989\"\n",
    "alias ogs_ourdisk=\"cd /ourdisk/hpc/yolo/hongyux/dont_archive/\"\n",
    "\n",
    "# Set up Transfer Learning Environment\n",
    "conda activate TL\n",
    "```"
   ]
  }
 ],
 "metadata": {
  "kernelspec": {
   "display_name": "ML",
   "language": "python",
   "name": "python3"
  },
  "language_info": {
   "codemirror_mode": {
    "name": "ipython",
    "version": 3
   },
   "file_extension": ".py",
   "mimetype": "text/x-python",
   "name": "python",
   "nbconvert_exporter": "python",
   "pygments_lexer": "ipython3",
   "version": "3.12.3"
  }
 },
 "nbformat": 4,
 "nbformat_minor": 5
}
